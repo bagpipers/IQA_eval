{
 "cells": [
  {
   "cell_type": "code",
   "execution_count": 5,
   "metadata": {},
   "outputs": [
    {
     "name": "stdout",
     "output_type": "stream",
     "text": [
      "マージが完了しました。結果は stable-diffusion-2-base_merged.csv に保存されています。\n"
     ]
    }
   ],
   "source": [
    "import pandas as pd\n",
    "\n",
    "# ファイル名\n",
    "base_file = \"stable-diffusion-2-base.csv\"\n",
    "arniqa_file = \"stable-diffusion-2-base_arniqa.csv\"\n",
    "clipiqa_file = \"stable-diffusion-2-base_clipiqa.csv\"\n",
    "cnniqa_file = \"stable-diffusion-2-base_cnniqa.csv\"\n",
    "metaiqa_file = \"stable-diffusion-2-base_metaiqa.csv\"\n",
    "\n",
    "# 基準となるCSVを読み込む\n",
    "base_df = pd.read_csv(base_file)\n",
    "\n",
    "# 他のCSVを読み込む\n",
    "arniqa_df = pd.read_csv(arniqa_file)\n",
    "clipiqa_df = pd.read_csv(clipiqa_file)\n",
    "cnniqa_df = pd.read_csv(cnniqa_file)\n",
    "metaiqa_df = pd.read_csv(metaiqa_file)\n",
    "\n",
    "# マージ処理\n",
    "dataframes = [arniqa_df, clipiqa_df, cnniqa_df, metaiqa_df]\n",
    "for df in dataframes:\n",
    "    base_df = base_df.merge(df, on=\"Filename\", how=\"left\")\n",
    "\n",
    "# 結果を保存\n",
    "output_file = \"stable-diffusion-2-base_merged.csv\"\n",
    "base_df.to_csv(output_file, index=False)\n",
    "\n",
    "print(f\"マージが完了しました。結果は {output_file} に保存されています。\")\n"
   ]
  }
 ],
 "metadata": {
  "kernelspec": {
   "display_name": "pyiqa",
   "language": "python",
   "name": "python3"
  },
  "language_info": {
   "codemirror_mode": {
    "name": "ipython",
    "version": 3
   },
   "file_extension": ".py",
   "mimetype": "text/x-python",
   "name": "python",
   "nbconvert_exporter": "python",
   "pygments_lexer": "ipython3",
   "version": "3.11.11"
  }
 },
 "nbformat": 4,
 "nbformat_minor": 2
}
