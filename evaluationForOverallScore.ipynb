{
 "cells": [
  {
   "cell_type": "code",
   "execution_count": 6,
   "metadata": {},
   "outputs": [
    {
     "name": "stdout",
     "output_type": "stream",
     "text": [
      "Loading CSV file...\n",
      "Loading pre-trained model...\n",
      "Running inference...\n",
      "Updated CSV file saved to: ./csv/sdxl-turbo_with_overall_score.csv\n"
     ]
    },
    {
     "name": "stderr",
     "output_type": "stream",
     "text": [
      "/tmp/ipykernel_508415/2679531189.py:41: FutureWarning: You are using `torch.load` with `weights_only=False` (the current default value), which uses the default pickle module implicitly. It is possible to construct malicious pickle data which will execute arbitrary code during unpickling (See https://github.com/pytorch/pytorch/blob/main/SECURITY.md#untrusted-models for more details). In a future release, the default value for `weights_only` will be flipped to `True`. This limits the functions that could be executed during unpickling. Arbitrary objects will no longer be allowed to be loaded via this mode unless they are explicitly allowlisted by the user via `torch.serialization.add_safe_globals`. We recommend you start setting `weights_only=True` for any use case where you don't have full control of the loaded file. Please open an issue on GitHub for any issues related to this experimental feature.\n",
      "  model = torch.load(model_path)\n"
     ]
    }
   ],
   "source": [
    "import pandas as pd\n",
    "import torch\n",
    "import torch.nn as nn\n",
    "\n",
    "# MLPモデルクラスの定義\n",
    "class MLPModel(nn.Module):\n",
    "    def __init__(self):\n",
    "        super(MLPModel, self).__init__()\n",
    "        self.fc1 = nn.Linear(4, 64) \n",
    "        self.fc2 = nn.Linear(64, 32) \n",
    "        self.fc3 = nn.Linear(32, 1)  \n",
    "        \n",
    "        self.relu = nn.ReLU()\n",
    "        self.sigmoid = nn.Sigmoid()\n",
    "\n",
    "    def forward(self, x):\n",
    "        x = self.relu(self.fc1(x))\n",
    "        x = self.relu(self.fc2(x))\n",
    "        x = self.fc3(x)\n",
    "        x = self.sigmoid(x)\n",
    "        return x\n",
    "\n",
    "# データファイルとモデルファイルのパス\n",
    "csv_path = \"./csv/sdxl-turbo_merged.csv\"\n",
    "model_path = \"./MlpNonLinearPredictor.pth\"\n",
    "\n",
    "# CSVファイルを読み込み\n",
    "print(\"Loading CSV file...\")\n",
    "data = pd.read_csv(csv_path)\n",
    "data = data.dropna()\n",
    "\n",
    "# 特徴量の選択\n",
    "features = data[['arniqa', 'clipiqa', 'cnniqa', 'metaiqa']]\n",
    "\n",
    "# 特徴量をTensorに変換\n",
    "features_tensor = torch.tensor(features.values, dtype=torch.float32)\n",
    "\n",
    "# モデルの読み込み\n",
    "print(\"Loading pre-trained model...\")\n",
    "model = MLPModel()\n",
    "model = torch.load(model_path)\n",
    "model.eval()\n",
    "\n",
    "# 推論の実行\n",
    "print(\"Running inference...\")\n",
    "with torch.no_grad():\n",
    "    overall_scores = model(features_tensor).squeeze().numpy()\n",
    "\n",
    "# 結果をDataFrameに追加\n",
    "data['overall_score'] = overall_scores\n",
    "\n",
    "# 更新されたCSVファイルを保存\n",
    "output_csv_path = \"./csv/sdxl-turbo_with_overall_score.csv\"\n",
    "data.to_csv(output_csv_path, index=False)\n",
    "\n",
    "print(f\"Updated CSV file saved to: {output_csv_path}\")\n"
   ]
  }
 ],
 "metadata": {
  "kernelspec": {
   "display_name": "pyiqa",
   "language": "python",
   "name": "python3"
  },
  "language_info": {
   "codemirror_mode": {
    "name": "ipython",
    "version": 3
   },
   "file_extension": ".py",
   "mimetype": "text/x-python",
   "name": "python",
   "nbconvert_exporter": "python",
   "pygments_lexer": "ipython3",
   "version": "3.11.11"
  }
 },
 "nbformat": 4,
 "nbformat_minor": 2
}
